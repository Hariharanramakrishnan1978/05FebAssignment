{
 "cells": [
  {
   "cell_type": "markdown",
   "id": "3467563e-ba36-4ef9-b814-312826bfed66",
   "metadata": {},
   "source": [
    "Q1. Explain Class and Object with respect to Object-Oriented Programming. Give a suitable example."
   ]
  },
  {
   "cell_type": "markdown",
   "id": "ff427140-cb54-441c-8dbf-1d6007c70923",
   "metadata": {},
   "source": [
    "Ans:\n",
    "A class is considered as a blueprint of objects. We can think of the class as a sketch (prototype) of a house. It contains all the details about the floors, doors, windows, etc. Based on these descriptions we build the house. House is the object.Since many houses can be made from the same description, we can create many objects from a class.\n",
    "An object is called an instance of a class. For example, suppose Bike is a class then we can create objects like bike1, bike2, etc from the class. "
   ]
  },
  {
   "cell_type": "markdown",
   "id": "0e2989f8-0e56-45a1-be29-14af0c633959",
   "metadata": {},
   "source": [
    "Q2. Name the four pillars of OOPs.\n",
    "\n",
    "Ans:  Four pillars of OOPS are Inheritance, Polymorphism, Encapsulation and Abstraction"
   ]
  },
  {
   "cell_type": "markdown",
   "id": "e47138b3-c4f1-48d4-8581-103f7361cbef",
   "metadata": {},
   "source": [
    "Q3. Explain why the __init__() function is used. Give a suitable example."
   ]
  },
  {
   "cell_type": "markdown",
   "id": "ae2f5257-565f-4619-ac8f-00fcdec28a85",
   "metadata": {},
   "source": [
    "__init__() is the constructor of the class. All classes have a function called __init__(), which is always executed when the class is being initiated. Use the __init__() function to assign values to object properties, or other operations that are necessary to do when the object is being created:"
   ]
  },
  {
   "cell_type": "markdown",
   "id": "c2842da5-57e2-4550-bfd3-efe85d46ae91",
   "metadata": {},
   "source": [
    "Example) "
   ]
  },
  {
   "cell_type": "code",
   "execution_count": 2,
   "id": "5fb8fd5c-162e-4391-80a3-8e4724766989",
   "metadata": {},
   "outputs": [
    {
     "name": "stdout",
     "output_type": "stream",
     "text": [
      "Sudha\n"
     ]
    }
   ],
   "source": [
    "class Person:\n",
    "    def __init__(self,name,age,sex,city):\n",
    "        self.name=name\n",
    "        self.age=age\n",
    "        self.sex=sex\n",
    "        self.city=city\n",
    "\n",
    "objs=Person(\"Sudha\",27,\"F\",\"Jaipur\")\n",
    "print(objs.name)"
   ]
  },
  {
   "cell_type": "markdown",
   "id": "72e0505c-f446-4613-a112-6e30f15ac48f",
   "metadata": {},
   "source": [
    "Q4. Why self is used in OOPs?"
   ]
  },
  {
   "cell_type": "markdown",
   "id": "1e14f4a2-a2ff-4fce-9961-cd06256573e5",
   "metadata": {},
   "source": [
    "Ans: The self is a reference to the current instance of the class, and is used to access variables that belongs to the class. It does not have to be named self , you can call it whatever you like, but it has to be the first parameter of any function in the class"
   ]
  },
  {
   "cell_type": "markdown",
   "id": "1b0cd973-dee1-4e25-8eb9-9d3eb66a38ab",
   "metadata": {},
   "source": [
    "Q5. What is inheritance? Give an example for each type of inheritance."
   ]
  },
  {
   "cell_type": "markdown",
   "id": "c777198a-ebc5-4214-aa38-2b3bf0da6998",
   "metadata": {},
   "source": [
    "Ans: Inheritance allows us to define a class that inherits all the methods and properties from another class. Parent class is the class being inherited from, also called base class. Child class is the class that inherits from another class, also called derived class."
   ]
  },
  {
   "cell_type": "markdown",
   "id": "28e88e5f-f73d-4748-8f43-ae61eee00a92",
   "metadata": {},
   "source": [
    "Following are the types of inheritance:\n",
    "Single Inheritance.\n",
    "Multiple Inheritance.\n",
    "Multilevel Inheritance."
   ]
  },
  {
   "cell_type": "markdown",
   "id": "c3767b78-2f8b-4b8c-aeaf-f8ffb4f12bde",
   "metadata": {},
   "source": [
    "Single Inheritance:\n",
    " Single inheritance allows a derived class to inherit properties of one parent class, and this allows code reuse and the introduction of additional features in existing code.\n",
    "\n",
    "Example)"
   ]
  },
  {
   "cell_type": "code",
   "execution_count": 3,
   "id": "510818c0-90f3-4409-9da9-37066c55a736",
   "metadata": {},
   "outputs": [
    {
     "name": "stdout",
     "output_type": "stream",
     "text": [
      "This function is defined inside the parent class.\n",
      "Value defined in Parent class is  Sudhaman\n",
      "This function is defined inside the child class.\n"
     ]
    }
   ],
   "source": [
    "class SingleParentClass:\n",
    "    Str=\"Sudhaman\"\n",
    "    def func_1(self):\n",
    "        print(\"This function is defined inside the parent class.\")\n",
    "\n",
    "    # now, we will create the Derived class\n",
    "\n",
    "\n",
    "class ChildClass(SingleParentClass):\n",
    "    def func_2(self):\n",
    "        print(\"This function is defined inside the child class.\")\n",
    "\n",
    "    # Driver's code\n",
    "\n",
    "\n",
    "obj = ChildClass()\n",
    "obj.func_1()\n",
    "print(\"Value defined in Parent class is \",obj.Str)\n",
    "obj.func_2()"
   ]
  },
  {
   "cell_type": "markdown",
   "id": "2dbfb5cb-3f3b-46f5-a182-f80402a8ec91",
   "metadata": {},
   "source": [
    "Multiple Inheritance:\n",
    "\n",
    "If a class is created from multiple base classes, this kind of Inheritance is known as multiple Inheritance. When there is multiple Inheritance, each of the attributes that are present in the classes of the base has been passed on to the class that is derived from it."
   ]
  },
  {
   "cell_type": "code",
   "execution_count": 4,
   "id": "071cadbb-b684-49c4-9ad3-dc5bd20ae673",
   "metadata": {},
   "outputs": [
    {
     "name": "stdout",
     "output_type": "stream",
     "text": [
      "Father name is : Kapil\n",
      "Mother name is : Gowri\n"
     ]
    }
   ],
   "source": [
    "class MotherDetails:\n",
    "\n",
    "    def mother(self):\n",
    "        print(self.mothername)\n",
    "\n",
    "    # Here, we will create the Base class 2\n",
    "\n",
    "\n",
    "class FatherDetails:\n",
    "\n",
    "\n",
    "    def father(self):\n",
    "        print(self.fathername)\n",
    "\n",
    "    # now, we will create the Derived class\n",
    "\n",
    "\n",
    "class Son1(MotherDetails, FatherDetails):\n",
    "    def parents1(self):\n",
    "        print(\"Father name is :\", self.fathername)\n",
    "        print(\"Mother name is :\", self.mothername)\n",
    "\n",
    "    # Driver's code\n",
    "\n",
    "\n",
    "s1 = Son1()\n",
    "s1.fathername = \"Kapil\"\n",
    "s1.mothername = \"Gowri\"\n",
    "s1.parents1()"
   ]
  },
  {
   "cell_type": "markdown",
   "id": "c5173663-c92e-47e7-968b-ded9c3138e53",
   "metadata": {},
   "source": [
    "MultiLevel Inheritance:\n",
    "\n",
    "Multilevel inheritance, the features that are part of the original class, as well as the class that is derived from it, are passed on to the new class. It is similar to a relationship involving grandparents and children."
   ]
  },
  {
   "cell_type": "code",
   "execution_count": 5,
   "id": "8fda9672-da73-4d58-a7ed-3a8a59c1ce1e",
   "metadata": {},
   "outputs": [
    {
     "name": "stdout",
     "output_type": "stream",
     "text": [
      "John Jr Jr\n",
      "Grandfather name is : John Jr Jr\n",
      "Father name is : John Jr\n",
      "Son name is : John\n"
     ]
    }
   ],
   "source": [
    "class Grandfather:\n",
    "\n",
    "    def __init__(self, grandfathername):\n",
    "        self.grandfathername = grandfathername\n",
    "\n",
    "\n",
    "\n",
    "\n",
    "class Father(Grandfather):\n",
    "    def __init__(self, fathername, grandfathername):\n",
    "        self.fathername = fathername\n",
    "\n",
    "        # here, we will invoke the constructor of Grandfather class\n",
    "        Grandfather.__init__(self, grandfathername)\n",
    "\n",
    "\n",
    "\n",
    "\n",
    "class Son1(Father):\n",
    "    def __init__(self, sonname, fathername, grandfathername):\n",
    "        self.sonname = sonname\n",
    "\n",
    "\n",
    "        Father.__init__(self, fathername, grandfathername)\n",
    "\n",
    "    def print_name(self):\n",
    "        print('Grandfather name is :', self.grandfathername)\n",
    "        print(\"Father name is :\", self.fathername)\n",
    "        print(\"Son name is :\", self.sonname)\n",
    "\n",
    "\n",
    "\n",
    "\n",
    "s1 = Son1('John', 'John Jr', 'John Jr Jr')\n",
    "print(s1.grandfathername)\n",
    "s1.print_name()"
   ]
  },
  {
   "cell_type": "code",
   "execution_count": null,
   "id": "c658fb75-47b6-4692-874c-9956a44fe29c",
   "metadata": {},
   "outputs": [],
   "source": []
  }
 ],
 "metadata": {
  "kernelspec": {
   "display_name": "Python 3 (ipykernel)",
   "language": "python",
   "name": "python3"
  },
  "language_info": {
   "codemirror_mode": {
    "name": "ipython",
    "version": 3
   },
   "file_extension": ".py",
   "mimetype": "text/x-python",
   "name": "python",
   "nbconvert_exporter": "python",
   "pygments_lexer": "ipython3",
   "version": "3.10.8"
  }
 },
 "nbformat": 4,
 "nbformat_minor": 5
}
